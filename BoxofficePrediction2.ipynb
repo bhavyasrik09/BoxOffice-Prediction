{
  "nbformat": 4,
  "nbformat_minor": 0,
  "metadata": {
    "colab": {
      "provenance": []
    },
    "kernelspec": {
      "name": "python3",
      "display_name": "Python 3"
    },
    "language_info": {
      "name": "python"
    }
  },
  "cells": [
    {
      "cell_type": "markdown",
      "source": [
        "**Import Libraries:**\n",
        "\n",
        "Import necessary libraries for loading the model and handling data."
      ],
      "metadata": {
        "id": "3Vnby7SSEkX7"
      }
    },
    {
      "cell_type": "code",
      "source": [
        "import pickle\n",
        "import pandas as pd"
      ],
      "metadata": {
        "id": "e0heE27Y1D2N"
      },
      "execution_count": 7,
      "outputs": []
    },
    {
      "cell_type": "markdown",
      "source": [
        "**Load the Trained Model:**\n",
        "\n",
        "pickle.load: Load the model and preprocessing pipeline from the pickle file.\n"
      ],
      "metadata": {
        "id": "Mgz_UKs3Equk"
      }
    },
    {
      "cell_type": "code",
      "source": [
        "# Load the trained model from the pickle file\n",
        "with open('box_office_model.pkl', 'rb') as file:\n",
        "    model = pickle.load(file)"
      ],
      "metadata": {
        "id": "khigoIkE1Hgt"
      },
      "execution_count": 8,
      "outputs": []
    },
    {
      "cell_type": "markdown",
      "source": [
        "**User Input:**\n",
        "\n",
        "Collect user inputs for rank, studio, and year.\n",
        "\n",
        "**Data Preparation:**\n",
        "\n",
        "pd.DataFrame: Create a DataFrame with the user inputs, matching the feature columns used during training.\n",
        "\n",
        "**Make Prediction:**\n",
        "\n",
        "model.predict: Use the loaded model to predict box office revenue based on the provided input data.\n",
        "\n",
        "**Display Results:**\n",
        "\n",
        "Print the predicted box office revenue."
      ],
      "metadata": {
        "id": "-8x1YIGVEu2V"
      }
    },
    {
      "cell_type": "code",
      "execution_count": 9,
      "metadata": {
        "colab": {
          "base_uri": "https://localhost:8080/"
        },
        "id": "PYZnIZQNwugQ",
        "outputId": "97ddb5fd-3cf3-47d5-b176-c01efcbd0970"
      },
      "outputs": [
        {
          "output_type": "stream",
          "name": "stdout",
          "text": [
            "Enter rank: 2\n",
            "Enter studio: Fox\n",
            "Enter year: 2020\n",
            "Predicted Box Office Revenue:  96244120.49962679\n"
          ]
        }
      ],
      "source": [
        "# User input\n",
        "rank = int(input('Enter rank: '))\n",
        "studio = input('Enter studio: ')\n",
        "year = int(input('Enter year: '))\n",
        "\n",
        "# Create a DataFrame with the input data\n",
        "input_data = pd.DataFrame([[rank, studio, year]], columns=['rank', 'studio', 'year'])\n",
        "\n",
        "# Predict the box office revenue\n",
        "predicted_revenue = model.predict(input_data)\n",
        "print('Predicted Box Office Revenue: ', predicted_revenue[0])\n"
      ]
    },
    {
      "cell_type": "markdown",
      "source": [
        "Example Inputs:\n"
      ],
      "metadata": {
        "id": "yXNOh-cL1WRB"
      }
    },
    {
      "cell_type": "markdown",
      "source": [
        "Example 1:\n",
        "\n",
        "Rank: 5\n",
        "\n",
        "Studio: BV\n",
        "\n",
        "Year: 2019\n",
        "\n",
        "Example 2:\n",
        "\n",
        "Rank: 10\n",
        "\n",
        "Studio: Fox\n",
        "\n",
        "Year: 2021\n",
        "\n",
        "Example 3:\n",
        "\n",
        "Rank: 1\n",
        "\n",
        "Studio: Sony\n",
        "\n",
        "Year: 2022"
      ],
      "metadata": {
        "id": "--PwOsRf1qhJ"
      }
    }
  ]
}